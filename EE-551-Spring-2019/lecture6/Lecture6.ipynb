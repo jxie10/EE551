{
 "cells": [
  {
   "cell_type": "markdown",
   "metadata": {},
   "source": [
    "## Sets\n",
    "\n",
    "The set— an **unordered** collection of **unique** and **immutable** objects that supports operations corresponding to mathematical set theory. By definition, an item appears only once in a set, no matter how many times it is added. Accordingly, sets have a variety of applications, especially in numeric and database-focused work. a set acts much like the keys of a valueless dictionary, but it supports extra operations."
   ]
  },
  {
   "cell_type": "code",
   "execution_count": 1,
   "metadata": {},
   "outputs": [
    {
     "data": {
      "text/plain": [
       "{1, 2, 3, 4}"
      ]
     },
     "execution_count": 1,
     "metadata": {},
     "output_type": "execute_result"
    }
   ],
   "source": [
    "# Built-in call\n",
    "# create a set from a list [1, 2, 3, 4, 4]\n",
<<<<<<< HEAD
    "set([1,2,3,4,4])"
=======
    "set([1, 2, 3, 4, 4])"
>>>>>>> 4ecaf2a0e74057c2968326962eaca2d5016faac5
   ]
  },
  {
   "cell_type": "code",
   "execution_count": 2,
   "metadata": {},
   "outputs": [
    {
     "data": {
      "text/plain": [
       "{'a', 'm', 'p', 's'}"
      ]
     },
     "execution_count": 2,
     "metadata": {},
     "output_type": "execute_result"
    }
   ],
   "source": [
    "# we can wrap a string with set\n",
    "# create a set from a string 'spam'\n",
    "set('spam')"
   ]
  },
  {
   "cell_type": "code",
<<<<<<< HEAD
   "execution_count": 4,
=======
   "execution_count": 3,
>>>>>>> 4ecaf2a0e74057c2968326962eaca2d5016faac5
   "metadata": {},
   "outputs": [
    {
     "name": "stdout",
     "output_type": "stream",
     "text": [
      "{'m', 'a', 's', 'p'}\n"
     ]
    }
   ],
   "source": [
    "# Define a set called S that has\n",
    "# items 's', 'p', 'a', 'm' using curly paranthesis\n",
<<<<<<< HEAD
    "S={'s','p','a','m'}\n",
    "print(S)"
=======
    "S = {'s', 'p', 'a', 'm'}"
>>>>>>> 4ecaf2a0e74057c2968326962eaca2d5016faac5
   ]
  },
  {
   "cell_type": "code",
<<<<<<< HEAD
   "execution_count": 5,
=======
   "execution_count": 4,
>>>>>>> 4ecaf2a0e74057c2968326962eaca2d5016faac5
   "metadata": {},
   "outputs": [
    {
     "name": "stdout",
     "output_type": "stream",
     "text": [
<<<<<<< HEAD
      "{'m', 'a', 's', 'p'}\n"
=======
      "{'p', 's', 'm', 'a'}\n"
>>>>>>> 4ecaf2a0e74057c2968326962eaca2d5016faac5
     ]
    }
   ],
   "source": [
    "# check the order by printing S\n",
    "print(S)"
   ]
  },
  {
   "cell_type": "code",
<<<<<<< HEAD
   "execution_count": 6,
=======
   "execution_count": 5,
>>>>>>> 4ecaf2a0e74057c2968326962eaca2d5016faac5
   "metadata": {},
   "outputs": [],
   "source": [
    "# we can add items by using add method\n",
    "# add 'alot' to S\n",
    "S.add('alot')"
   ]
  },
  {
   "cell_type": "code",
<<<<<<< HEAD
   "execution_count": 7,
=======
   "execution_count": 6,
>>>>>>> 4ecaf2a0e74057c2968326962eaca2d5016faac5
   "metadata": {},
   "outputs": [
    {
     "name": "stdout",
     "output_type": "stream",
     "text": [
<<<<<<< HEAD
      "{'a', 's', 'alot', 'm', 'p'}\n"
=======
      "{'s', 'm', 'alot', 'a', 'p'}\n"
>>>>>>> 4ecaf2a0e74057c2968326962eaca2d5016faac5
     ]
    }
   ],
   "source": [
    "print(S)"
   ]
  },
  {
   "cell_type": "code",
<<<<<<< HEAD
   "execution_count": 8,
=======
   "execution_count": 7,
>>>>>>> 4ecaf2a0e74057c2968326962eaca2d5016faac5
   "metadata": {},
   "outputs": [],
   "source": [
    "# let's define a set S1 with\n",
    "# items 1, 2, 3, 4\n",
<<<<<<< HEAD
    "S1 = {1,2,3,4}"
=======
    "S1 = {1, 2, 3, 4}"
>>>>>>> 4ecaf2a0e74057c2968326962eaca2d5016faac5
   ]
  },
  {
   "cell_type": "code",
<<<<<<< HEAD
   "execution_count": 9,
=======
   "execution_count": 8,
>>>>>>> 4ecaf2a0e74057c2968326962eaca2d5016faac5
   "metadata": {},
   "outputs": [
    {
     "data": {
      "text/plain": [
       "{1, 3}"
      ]
     },
<<<<<<< HEAD
     "execution_count": 9,
=======
     "execution_count": 8,
>>>>>>> 4ecaf2a0e74057c2968326962eaca2d5016faac5
     "metadata": {},
     "output_type": "execute_result"
    }
   ],
   "source": [
    "# we can check the intersection by &\n",
    "# what is the intersection between S1 and {1, 3} \n",
<<<<<<< HEAD
    "S1 & {1,3}"
=======
    "S1 & {1, 3}"
>>>>>>> 4ecaf2a0e74057c2968326962eaca2d5016faac5
   ]
  },
  {
   "cell_type": "code",
<<<<<<< HEAD
   "execution_count": 10,
=======
   "execution_count": 9,
>>>>>>> 4ecaf2a0e74057c2968326962eaca2d5016faac5
   "metadata": {},
   "outputs": [
    {
     "data": {
      "text/plain": [
       "{1, 2, 3, 4, 5, 6}"
      ]
     },
<<<<<<< HEAD
     "execution_count": 10,
=======
     "execution_count": 9,
>>>>>>> 4ecaf2a0e74057c2968326962eaca2d5016faac5
     "metadata": {},
     "output_type": "execute_result"
    }
   ],
   "source": [
    "# we can check union by |\n",
    "# what is the union of {1, 5, 3, 6} and S1?\n",
<<<<<<< HEAD
    "S1 | {1,5,3,6}"
=======
    "S1 | {1, 5, 3, 6}"
>>>>>>> 4ecaf2a0e74057c2968326962eaca2d5016faac5
   ]
  },
  {
   "cell_type": "code",
<<<<<<< HEAD
   "execution_count": 11,
=======
   "execution_count": 10,
>>>>>>> 4ecaf2a0e74057c2968326962eaca2d5016faac5
   "metadata": {},
   "outputs": [
    {
     "data": {
      "text/plain": [
       "{2}"
      ]
     },
<<<<<<< HEAD
     "execution_count": 11,
=======
     "execution_count": 10,
>>>>>>> 4ecaf2a0e74057c2968326962eaca2d5016faac5
     "metadata": {},
     "output_type": "execute_result"
    }
   ],
   "source": [
    "# we can check the difference between sets by -\n",
    "# what is the difference between S1 and {1, 3, 4}\n",
<<<<<<< HEAD
    "S1 - {1,3,4}"
=======
    "S1 - {1, 3, 4}"
>>>>>>> 4ecaf2a0e74057c2968326962eaca2d5016faac5
   ]
  },
  {
   "cell_type": "code",
<<<<<<< HEAD
   "execution_count": 12,
=======
   "execution_count": 11,
>>>>>>> 4ecaf2a0e74057c2968326962eaca2d5016faac5
   "metadata": {},
   "outputs": [
    {
     "data": {
      "text/plain": [
       "True"
      ]
     },
<<<<<<< HEAD
     "execution_count": 12,
=======
     "execution_count": 11,
>>>>>>> 4ecaf2a0e74057c2968326962eaca2d5016faac5
     "metadata": {},
     "output_type": "execute_result"
    }
   ],
   "source": [
    "# we can check if a set is a super set \n",
    "# of another set by >\n",
    "# is S1 a super set of {1, 3}\n",
<<<<<<< HEAD
    "S1 > {1,3}"
=======
    "S1 > {1, 3}"
>>>>>>> 4ecaf2a0e74057c2968326962eaca2d5016faac5
   ]
  },
  {
   "cell_type": "markdown",
   "metadata": {},
   "source": [
    "Sets can only contain **immutable** (a.k.a. “hashable”) object types. Hence, lists and dictionaries cannot be embedded in sets, but tuples can if you need to store compound values."
   ]
  },
  {
   "cell_type": "code",
<<<<<<< HEAD
   "execution_count": 13,
=======
   "execution_count": 12,
>>>>>>> 4ecaf2a0e74057c2968326962eaca2d5016faac5
   "metadata": {},
   "outputs": [],
   "source": [
    "# let's create an empty set S by using type set\n",
<<<<<<< HEAD
    "S= set()"
=======
    "S = set()"
>>>>>>> 4ecaf2a0e74057c2968326962eaca2d5016faac5
   ]
  },
  {
   "cell_type": "code",
<<<<<<< HEAD
   "execution_count": 14,
=======
   "execution_count": 13,
>>>>>>> 4ecaf2a0e74057c2968326962eaca2d5016faac5
   "metadata": {},
   "outputs": [],
   "source": [
    "# now add an item 1.23\n",
    "S.add(1.23)"
   ]
  },
  {
   "cell_type": "code",
<<<<<<< HEAD
   "execution_count": 15,
=======
   "execution_count": 14,
>>>>>>> 4ecaf2a0e74057c2968326962eaca2d5016faac5
   "metadata": {},
   "outputs": [
    {
     "ename": "TypeError",
     "evalue": "unhashable type: 'list'",
     "output_type": "error",
     "traceback": [
<<<<<<< HEAD
      "\u001b[1;31m---------------------------------------------------------------------------\u001b[0m",
      "\u001b[1;31mTypeError\u001b[0m                                 Traceback (most recent call last)",
      "\u001b[1;32m<ipython-input-15-c327847f5c53>\u001b[0m in \u001b[0;36m<module>\u001b[1;34m\u001b[0m\n\u001b[0;32m      1\u001b[0m \u001b[1;31m# let's try to add list [1, 2, 3] to S\u001b[0m\u001b[1;33m\u001b[0m\u001b[1;33m\u001b[0m\u001b[1;33m\u001b[0m\u001b[0m\n\u001b[1;32m----> 2\u001b[1;33m \u001b[0mS\u001b[0m\u001b[1;33m.\u001b[0m\u001b[0madd\u001b[0m\u001b[1;33m(\u001b[0m\u001b[1;33m[\u001b[0m\u001b[1;36m1\u001b[0m\u001b[1;33m,\u001b[0m\u001b[1;36m2\u001b[0m\u001b[1;33m,\u001b[0m\u001b[1;36m3\u001b[0m\u001b[1;33m]\u001b[0m\u001b[1;33m)\u001b[0m\u001b[1;33m\u001b[0m\u001b[1;33m\u001b[0m\u001b[0m\n\u001b[0m",
      "\u001b[1;31mTypeError\u001b[0m: unhashable type: 'list'"
=======
      "\u001b[0;31m---------------------------------------------------------------------------\u001b[0m",
      "\u001b[0;31mTypeError\u001b[0m                                 Traceback (most recent call last)",
      "\u001b[0;32m<ipython-input-14-60a70006a5c8>\u001b[0m in \u001b[0;36m<module>\u001b[0;34m\u001b[0m\n\u001b[1;32m      1\u001b[0m \u001b[0;31m# let's try to add list [1, 2, 3] to S\u001b[0m\u001b[0;34m\u001b[0m\u001b[0;34m\u001b[0m\u001b[0m\n\u001b[0;32m----> 2\u001b[0;31m \u001b[0mS\u001b[0m\u001b[0;34m.\u001b[0m\u001b[0madd\u001b[0m\u001b[0;34m(\u001b[0m\u001b[0;34m[\u001b[0m\u001b[0;36m1\u001b[0m\u001b[0;34m,\u001b[0m \u001b[0;36m2\u001b[0m\u001b[0;34m,\u001b[0m \u001b[0;36m3\u001b[0m\u001b[0;34m]\u001b[0m\u001b[0;34m)\u001b[0m\u001b[0;34m\u001b[0m\u001b[0m\n\u001b[0m",
      "\u001b[0;31mTypeError\u001b[0m: unhashable type: 'list'"
>>>>>>> 4ecaf2a0e74057c2968326962eaca2d5016faac5
     ]
    }
   ],
   "source": [
    "# let's try to add list [1, 2, 3] to S\n",
<<<<<<< HEAD
    "S.add([1,2,3])"
=======
    "S.add([1, 2, 3])"
>>>>>>> 4ecaf2a0e74057c2968326962eaca2d5016faac5
   ]
  },
  {
   "cell_type": "code",
<<<<<<< HEAD
   "execution_count": 16,
=======
   "execution_count": 15,
>>>>>>> 4ecaf2a0e74057c2968326962eaca2d5016faac5
   "metadata": {},
   "outputs": [
    {
     "ename": "TypeError",
     "evalue": "unhashable type: 'dict'",
     "output_type": "error",
     "traceback": [
<<<<<<< HEAD
      "\u001b[1;31m---------------------------------------------------------------------------\u001b[0m",
      "\u001b[1;31mTypeError\u001b[0m                                 Traceback (most recent call last)",
      "\u001b[1;32m<ipython-input-16-528df1d7ef4d>\u001b[0m in \u001b[0;36m<module>\u001b[1;34m\u001b[0m\n\u001b[0;32m      1\u001b[0m \u001b[1;31m# what about adding a dictionary {'a': 1}\u001b[0m\u001b[1;33m\u001b[0m\u001b[1;33m\u001b[0m\u001b[1;33m\u001b[0m\u001b[0m\n\u001b[1;32m----> 2\u001b[1;33m \u001b[0mS\u001b[0m\u001b[1;33m.\u001b[0m\u001b[0madd\u001b[0m\u001b[1;33m(\u001b[0m\u001b[1;33m{\u001b[0m\u001b[1;34m'a'\u001b[0m\u001b[1;33m:\u001b[0m\u001b[1;36m1\u001b[0m\u001b[1;33m}\u001b[0m\u001b[1;33m)\u001b[0m\u001b[1;33m\u001b[0m\u001b[1;33m\u001b[0m\u001b[0m\n\u001b[0m",
      "\u001b[1;31mTypeError\u001b[0m: unhashable type: 'dict'"
=======
      "\u001b[0;31m---------------------------------------------------------------------------\u001b[0m",
      "\u001b[0;31mTypeError\u001b[0m                                 Traceback (most recent call last)",
      "\u001b[0;32m<ipython-input-15-71c500d4f709>\u001b[0m in \u001b[0;36m<module>\u001b[0;34m\u001b[0m\n\u001b[1;32m      1\u001b[0m \u001b[0;31m# what about adding a dictionary {'a': 1}\u001b[0m\u001b[0;34m\u001b[0m\u001b[0;34m\u001b[0m\u001b[0m\n\u001b[0;32m----> 2\u001b[0;31m \u001b[0mS\u001b[0m\u001b[0;34m.\u001b[0m\u001b[0madd\u001b[0m\u001b[0;34m(\u001b[0m\u001b[0;34m{\u001b[0m\u001b[0;34m'a'\u001b[0m\u001b[0;34m:\u001b[0m \u001b[0;36m1\u001b[0m\u001b[0;34m}\u001b[0m\u001b[0;34m)\u001b[0m\u001b[0;34m\u001b[0m\u001b[0m\n\u001b[0m",
      "\u001b[0;31mTypeError\u001b[0m: unhashable type: 'dict'"
>>>>>>> 4ecaf2a0e74057c2968326962eaca2d5016faac5
     ]
    }
   ],
   "source": [
    "# what about adding a dictionary {'a': 1}\n",
<<<<<<< HEAD
    "S.add({'a':1})"
=======
    "S.add({'a': 1})"
>>>>>>> 4ecaf2a0e74057c2968326962eaca2d5016faac5
   ]
  },
  {
   "cell_type": "code",
<<<<<<< HEAD
   "execution_count": 17,
=======
   "execution_count": 16,
>>>>>>> 4ecaf2a0e74057c2968326962eaca2d5016faac5
   "metadata": {},
   "outputs": [],
   "source": [
    "# What about adding a tuple (1, 2, 3)\n",
<<<<<<< HEAD
    "S.add((1,2,3))"
=======
    "S.add((1, 2, 3))"
>>>>>>> 4ecaf2a0e74057c2968326962eaca2d5016faac5
   ]
  },
  {
   "cell_type": "code",
<<<<<<< HEAD
   "execution_count": 18,
=======
   "execution_count": 17,
>>>>>>> 4ecaf2a0e74057c2968326962eaca2d5016faac5
   "metadata": {},
   "outputs": [
    {
     "name": "stdout",
     "output_type": "stream",
     "text": [
      "{1.23, (1, 2, 3)}\n"
     ]
    }
   ],
   "source": [
    "# Let's print S\n",
    "print(S)"
   ]
  },
  {
   "cell_type": "markdown",
   "metadata": {},
   "source": [
    "As we just saw, we can not add lists or dictionaries but tuples are OK since they are immutable."
   ]
  },
  {
   "cell_type": "code",
<<<<<<< HEAD
   "execution_count": 19,
=======
   "execution_count": 18,
>>>>>>> 4ecaf2a0e74057c2968326962eaca2d5016faac5
   "metadata": {},
   "outputs": [
    {
     "data": {
      "text/plain": [
       "True"
      ]
     },
<<<<<<< HEAD
     "execution_count": 19,
=======
     "execution_count": 18,
>>>>>>> 4ecaf2a0e74057c2968326962eaca2d5016faac5
     "metadata": {},
     "output_type": "execute_result"
    }
   ],
   "source": [
    "# We can check membership by in\n",
    "# let's check if (1, 2, 3) is in S\n",
<<<<<<< HEAD
    "(1,2,3) in S"
=======
    "(1, 2, 3) in S"
>>>>>>> 4ecaf2a0e74057c2968326962eaca2d5016faac5
   ]
  },
  {
   "cell_type": "code",
<<<<<<< HEAD
   "execution_count": 20,
=======
   "execution_count": 19,
>>>>>>> 4ecaf2a0e74057c2968326962eaca2d5016faac5
   "metadata": {},
   "outputs": [
    {
     "data": {
      "text/plain": [
       "False"
      ]
     },
<<<<<<< HEAD
     "execution_count": 20,
=======
     "execution_count": 19,
>>>>>>> 4ecaf2a0e74057c2968326962eaca2d5016faac5
     "metadata": {},
     "output_type": "execute_result"
    }
   ],
   "source": [
    "# is (1, 4, 3) in S?\n",
<<<<<<< HEAD
    "(1,4,3) in S"
=======
    "(1, 4, 3) in S"
>>>>>>> 4ecaf2a0e74057c2968326962eaca2d5016faac5
   ]
  },
  {
   "cell_type": "code",
<<<<<<< HEAD
   "execution_count": 22,
=======
   "execution_count": 20,
>>>>>>> 4ecaf2a0e74057c2968326962eaca2d5016faac5
   "metadata": {},
   "outputs": [
    {
     "data": {
      "text/plain": [
       "{1, 4, 9, 16, 25}"
      ]
     },
<<<<<<< HEAD
     "execution_count": 22,
=======
     "execution_count": 20,
>>>>>>> 4ecaf2a0e74057c2968326962eaca2d5016faac5
     "metadata": {},
     "output_type": "execute_result"
    }
   ],
   "source": [
    "# We can iterate items using set comprehension\n",
    "# create a set that contains a \n",
    "#    square of each item in list [1, 2, 3, 4, 5]\n",
<<<<<<< HEAD
    "{c**2 for c in[1,2,3,4,5]}"
=======
    "{x ** 2 for x in [1, 2, 3, 4, 5]}"
>>>>>>> 4ecaf2a0e74057c2968326962eaca2d5016faac5
   ]
  },
  {
   "cell_type": "code",
<<<<<<< HEAD
   "execution_count": 23,
=======
   "execution_count": 21,
>>>>>>> 4ecaf2a0e74057c2968326962eaca2d5016faac5
   "metadata": {},
   "outputs": [
    {
     "data": {
      "text/plain": [
       "{'a', 'm', 'p', 's'}"
      ]
     },
<<<<<<< HEAD
     "execution_count": 23,
=======
     "execution_count": 21,
>>>>>>> 4ecaf2a0e74057c2968326962eaca2d5016faac5
     "metadata": {},
     "output_type": "execute_result"
    }
   ],
   "source": [
    "# Can we use set comprehension that has the\n",
    "# same effect as set('spam')?\n",
    "# Create a set of items in 'spam'\n",
<<<<<<< HEAD
    "{x for x in \"spam\"}"
=======
    "{x for x in 'spam'}"
>>>>>>> 4ecaf2a0e74057c2968326962eaca2d5016faac5
   ]
  },
  {
   "cell_type": "code",
<<<<<<< HEAD
   "execution_count": 24,
=======
   "execution_count": 23,
>>>>>>> 4ecaf2a0e74057c2968326962eaca2d5016faac5
   "metadata": {},
   "outputs": [
    {
     "data": {
      "text/plain": [
       "{'aaaa', 'hhhh', 'mmmm', 'pppp', 'ssss'}"
      ]
     },
<<<<<<< HEAD
     "execution_count": 24,
=======
     "execution_count": 23,
>>>>>>> 4ecaf2a0e74057c2968326962eaca2d5016faac5
     "metadata": {},
     "output_type": "execute_result"
    }
   ],
   "source": [
    "# Create a set that has four times repetition \n",
    "# of each item in 'spamham'\n",
<<<<<<< HEAD
    "{x*4 for x in 'spamham'}"
=======
    "{x * 4 for x in 'spamham'}"
>>>>>>> 4ecaf2a0e74057c2968326962eaca2d5016faac5
   ]
  },
  {
   "cell_type": "markdown",
   "metadata": {},
   "source": [
    "Set operations have a variety of common uses, some more practical than mathematical. For example, because items are stored only once in a set, sets can be used to filter duplicates out of other collections, though items may be reordered in the process because sets are unordered in general. Simply convert the collection to a set, and then convert it back again."
   ]
  },
  {
   "cell_type": "code",
<<<<<<< HEAD
   "execution_count": 29,
   "metadata": {},
   "outputs": [
    {
     "data": {
      "text/plain": [
       "[1, 2, 3, 4, 5]"
      ]
     },
     "execution_count": 29,
     "metadata": {},
     "output_type": "execute_result"
=======
   "execution_count": 24,
   "metadata": {},
   "outputs": [
    {
     "name": "stdout",
     "output_type": "stream",
     "text": [
      "[1, 2, 3, 4, 5]\n"
     ]
>>>>>>> 4ecaf2a0e74057c2968326962eaca2d5016faac5
    }
   ],
   "source": [
    "# Remove the duplicates in\n",
    "# L = [1, 2, 1, 3, 2, 4, 5] by using set\n",
<<<<<<< HEAD
    "L=[1,2,1,3,2,4,5]\n",
    "list(set(L))"
=======
    "L = [1, 2, 1, 3, 2, 4, 5]\n",
    "L = list(set(L))\n",
    "print(L)"
>>>>>>> 4ecaf2a0e74057c2968326962eaca2d5016faac5
   ]
  },
  {
   "cell_type": "code",
<<<<<<< HEAD
   "execution_count": 26,
=======
   "execution_count": 25,
>>>>>>> 4ecaf2a0e74057c2968326962eaca2d5016faac5
   "metadata": {},
   "outputs": [
    {
     "name": "stdout",
     "output_type": "stream",
     "text": [
<<<<<<< HEAD
      "{1, 2, 3, 4, 5}\n"
     ]
    }
   ],
   "source": [
    "print(L)"
   ]
  },
  {
   "cell_type": "code",
   "execution_count": 30,
   "metadata": {},
   "outputs": [
    {
     "data": {
      "text/plain": [
       "['yy', 'dd', 'xx', 'aa', 'cc']"
      ]
     },
     "execution_count": 30,
     "metadata": {},
     "output_type": "execute_result"
    }
   ],
=======
      "['dd', 'xx', 'aa', 'yy', 'cc']\n"
     ]
    }
   ],
>>>>>>> 4ecaf2a0e74057c2968326962eaca2d5016faac5
   "source": [
    "# Does the order change?\n",
    "# Let's check with \n",
    "# ['yy', 'cc', 'aa', 'xx', 'dd', 'aa']\n",
<<<<<<< HEAD
    "list(set(['yy', 'cc', 'aa', 'xx', 'dd', 'aa']))"
=======
    "L = ['yy', 'cc', 'aa', 'xx', 'dd', 'aa']\n",
    "L = list(set(L))\n",
    "print(L)"
>>>>>>> 4ecaf2a0e74057c2968326962eaca2d5016faac5
   ]
  },
  {
   "cell_type": "markdown",
   "metadata": {},
   "source": [
    "Sets can be used to isolate differences in lists, strings, and other iterable objects too— simply convert to sets and take the difference—though again the unordered nature of sets means that the results may not match that of the originals."
   ]
  },
  {
   "cell_type": "code",
<<<<<<< HEAD
   "execution_count": 39,
=======
   "execution_count": 26,
>>>>>>> 4ecaf2a0e74057c2968326962eaca2d5016faac5
   "metadata": {},
   "outputs": [
    {
     "name": "stdout",
     "output_type": "stream",
     "text": [
<<<<<<< HEAD
      "[2, 3, 4, 6, 7]\n"
=======
      "{2, 3, 4, 6, 7}\n"
>>>>>>> 4ecaf2a0e74057c2968326962eaca2d5016faac5
     ]
    }
   ],
   "source": [
    "# Find the differences between list\n",
    "# [1, 3, 5, 7] and [1, 2, 4, 5, 6]\n",
<<<<<<< HEAD
    "union = set([1,3,5,7]) | set([1,2,4,5,6])\n",
    "intersect = set([1,2,4,5,6]) & set([1,3,5,7])\n",
    "difference = union - intersect\n",
    "print (list(difference))"
=======
    "L1 = [1, 3, 5, 7]\n",
    "L2 = [1, 2, 4, 5, 6]\n",
    "\n",
    "union = set(L1) | set(L2)\n",
    "intersection = set(L1) & set(L2)\n",
    "\n",
    "difference = union - intersection\n",
    "print(difference)"
   ]
  },
  {
   "cell_type": "code",
   "execution_count": 27,
   "metadata": {},
   "outputs": [
    {
     "data": {
      "text/plain": [
       "{2, 3, 4, 6, 7}"
      ]
     },
     "execution_count": 27,
     "metadata": {},
     "output_type": "execute_result"
    }
   ],
   "source": [
    "# easier way\n",
    "set(L1) ^ set(L2)"
>>>>>>> 4ecaf2a0e74057c2968326962eaca2d5016faac5
   ]
  },
  {
   "cell_type": "code",
   "execution_count": null,
   "metadata": {},
   "outputs": [],
   "source": [
    "# Find the differences between\n",
    "# strings 'abcdefg' and 'abdghij'"
   ]
  },
  {
   "cell_type": "markdown",
   "metadata": {},
   "source": [
    "You can also use sets to perform order-neutral equality tests by converting to a set before the test, because order doesn’t matter in a set. For instance, you might use this to compare the outputs of programs that should work the same but may generate results in different order. Sorting before testing has the same effect for equality, but sets don’t rely on an expensive sort, and sorts order their results to support additional magnitude tests that sets do not. "
   ]
  },
  {
   "cell_type": "code",
<<<<<<< HEAD
   "execution_count": 40,
=======
   "execution_count": 28,
>>>>>>> 4ecaf2a0e74057c2968326962eaca2d5016faac5
   "metadata": {},
   "outputs": [],
   "source": [
    "# Do these two lists contain same items?\n",
    "# L1, L2 = [1, 3, 5, 2, 4], [2, 5, 3, 4, 1]\n",
<<<<<<< HEAD
    "L1 = [1,3,5,2,4]\n",
    "L2 = [2,5,3,4,1]"
=======
    "L1 = [1, 3, 5, 2, 4]\n",
    "L2 = [2, 5, 3, 4, 1]"
>>>>>>> 4ecaf2a0e74057c2968326962eaca2d5016faac5
   ]
  },
  {
   "cell_type": "code",
<<<<<<< HEAD
   "execution_count": 41,
=======
   "execution_count": 29,
>>>>>>> 4ecaf2a0e74057c2968326962eaca2d5016faac5
   "metadata": {},
   "outputs": [
    {
     "data": {
      "text/plain": [
       "False"
      ]
     },
<<<<<<< HEAD
     "execution_count": 41,
=======
     "execution_count": 29,
>>>>>>> 4ecaf2a0e74057c2968326962eaca2d5016faac5
     "metadata": {},
     "output_type": "execute_result"
    }
   ],
   "source": [
    "# Can we use equality?\n",
    "# Order matters in sequences\n",
    "L1 == L2"
   ]
  },
  {
   "cell_type": "code",
<<<<<<< HEAD
   "execution_count": 42,
=======
   "execution_count": 30,
>>>>>>> 4ecaf2a0e74057c2968326962eaca2d5016faac5
   "metadata": {},
   "outputs": [
    {
     "data": {
      "text/plain": [
       "True"
      ]
     },
<<<<<<< HEAD
     "execution_count": 42,
=======
     "execution_count": 30,
>>>>>>> 4ecaf2a0e74057c2968326962eaca2d5016faac5
     "metadata": {},
     "output_type": "execute_result"
    }
   ],
   "source": [
    "# What about order-neutral equality?\n",
    "set(L1) == set(L2)"
   ]
  },
  {
   "cell_type": "code",
<<<<<<< HEAD
   "execution_count": 43,
=======
   "execution_count": 31,
>>>>>>> 4ecaf2a0e74057c2968326962eaca2d5016faac5
   "metadata": {},
   "outputs": [
    {
     "data": {
      "text/plain": [
       "True"
      ]
     },
<<<<<<< HEAD
     "execution_count": 43,
=======
     "execution_count": 31,
>>>>>>> 4ecaf2a0e74057c2968326962eaca2d5016faac5
     "metadata": {},
     "output_type": "execute_result"
    }
   ],
   "source": [
    "# can we use sort?\n",
    "sorted(L1) == sorted(L2)"
   ]
  },
  {
   "cell_type": "code",
<<<<<<< HEAD
   "execution_count": 49,
=======
   "execution_count": 39,
>>>>>>> 4ecaf2a0e74057c2968326962eaca2d5016faac5
   "metadata": {},
   "outputs": [
    {
     "name": "stdout",
     "output_type": "stream",
     "text": [
<<<<<<< HEAD
      "Elapsed time for set(L1) == set(L2) is 2.1570 seconds\n"
=======
      "Elapsed time for using set(L1) == set(L2) is 1.1186\n"
>>>>>>> 4ecaf2a0e74057c2968326962eaca2d5016faac5
     ]
    }
   ],
   "source": [
    "# let's check timing for set\n",
    "import time\n",
<<<<<<< HEAD
    "Start_time = time.time()\n",
    "[set(L1*1000) == set(L2*1000) for i in range(10000)]\n",
    "\n",
    "end_time = time.time()\n",
    "elapsed_time=end_time-Start_time\n",
    "\n",
    "print('Elapsed time for set(L1) == set(L2) is', '{0:0.4f}'.format(elapsed_time),'seconds')"
=======
    "\n",
    "start_time = time.time()\n",
    "\n",
    "[set(L1*10000) == set(L2*10000) for i in range(1000) ]\n",
    "\n",
    "end_time = time.time()\n",
    "\n",
    "elapsed_time = end_time - start_time\n",
    "print(\"Elapsed time for using set(L1) == set(L2) is\",\n",
    "     '{0:0.4f}'.format(elapsed_time))"
>>>>>>> 4ecaf2a0e74057c2968326962eaca2d5016faac5
   ]
  },
  {
   "cell_type": "code",
<<<<<<< HEAD
   "execution_count": 50,
=======
   "execution_count": 41,
>>>>>>> 4ecaf2a0e74057c2968326962eaca2d5016faac5
   "metadata": {},
   "outputs": [
    {
     "name": "stdout",
     "output_type": "stream",
     "text": [
<<<<<<< HEAD
      "Elapsed time for sorted(L1) == sorted(L2) is 8.5856 seconds\n"
=======
      "Elapsed time for using sorted(L1) == sorted(L2) is 3.3455\n"
>>>>>>> 4ecaf2a0e74057c2968326962eaca2d5016faac5
     ]
    }
   ],
   "source": [
    "# let's check timing for sort\n",
<<<<<<< HEAD
    "import time\n",
    "Start_time = time.time()\n",
    "[sorted(L1*1000) == sorted(L2*1000) for i in range(10000)]\n",
    "\n",
    "end_time = time.time()\n",
    "elapsed_time=end_time-Start_time\n",
    "\n",
    "print('Elapsed time for sorted(L1) == sorted(L2) is', '{0:0.4f}'.format(elapsed_time),'seconds')"
=======
    "\n",
    "import time\n",
    "\n",
    "start_time = time.time()\n",
    "\n",
    "[sorted(L1*10000) == sorted(L2*10000) for i in range(1000) ]\n",
    "\n",
    "end_time = time.time()\n",
    "\n",
    "elapsed_time = end_time - start_time\n",
    "print(\"Elapsed time for using sorted(L1) == sorted(L2) is\",\n",
    "     '{0:0.4f}'.format(elapsed_time))"
>>>>>>> 4ecaf2a0e74057c2968326962eaca2d5016faac5
   ]
  },
  {
   "cell_type": "markdown",
   "metadata": {},
   "source": [
    "Sets are also convenient when you’re dealing with large data sets (database query results, for example)—the intersection of two sets contains objects common to both categories, and the union contains all items in either set."
   ]
  },
  {
   "cell_type": "code",
<<<<<<< HEAD
   "execution_count": 51,
=======
   "execution_count": 42,
>>>>>>> 4ecaf2a0e74057c2968326962eaca2d5016faac5
   "metadata": {},
   "outputs": [],
   "source": [
    "# Let's create two sets:\n",
    "# engineers = {'bob', 'sue', 'ann', 'vic'}\n",
    "# managers = {'tom', 'sue'}\n",
    "engineers = {'bob', 'sue', 'ann', 'vic'}\n",
    "managers = {'tom', 'sue'}"
   ]
  },
  {
   "cell_type": "code",
<<<<<<< HEAD
   "execution_count": 52,
=======
   "execution_count": 43,
>>>>>>> 4ecaf2a0e74057c2968326962eaca2d5016faac5
   "metadata": {},
   "outputs": [
    {
     "data": {
      "text/plain": [
       "True"
      ]
     },
<<<<<<< HEAD
     "execution_count": 52,
=======
     "execution_count": 43,
>>>>>>> 4ecaf2a0e74057c2968326962eaca2d5016faac5
     "metadata": {},
     "output_type": "execute_result"
    }
   ],
   "source": [
    "# Is bob an engineer?\n",
    "'bob' in engineers"
   ]
  },
  {
   "cell_type": "code",
<<<<<<< HEAD
   "execution_count": 54,
=======
   "execution_count": 44,
>>>>>>> 4ecaf2a0e74057c2968326962eaca2d5016faac5
   "metadata": {},
   "outputs": [
    {
     "data": {
      "text/plain": [
       "{'sue'}"
      ]
     },
<<<<<<< HEAD
     "execution_count": 54,
=======
     "execution_count": 44,
>>>>>>> 4ecaf2a0e74057c2968326962eaca2d5016faac5
     "metadata": {},
     "output_type": "execute_result"
    }
   ],
   "source": [
    "# Who is both engineer and manager?\n",
    "engineers & managers"
   ]
  },
  {
   "cell_type": "code",
<<<<<<< HEAD
   "execution_count": 55,
=======
   "execution_count": 45,
>>>>>>> 4ecaf2a0e74057c2968326962eaca2d5016faac5
   "metadata": {},
   "outputs": [
    {
     "data": {
      "text/plain": [
       "{'ann', 'bob', 'sue', 'tom', 'vic'}"
      ]
     },
<<<<<<< HEAD
     "execution_count": 55,
=======
     "execution_count": 45,
>>>>>>> 4ecaf2a0e74057c2968326962eaca2d5016faac5
     "metadata": {},
     "output_type": "execute_result"
    }
   ],
   "source": [
    "# All people in either category\n",
    "engineers | managers"
   ]
  },
  {
   "cell_type": "code",
<<<<<<< HEAD
   "execution_count": 56,
=======
   "execution_count": 46,
>>>>>>> 4ecaf2a0e74057c2968326962eaca2d5016faac5
   "metadata": {},
   "outputs": [
    {
     "data": {
      "text/plain": [
       "{'ann', 'bob', 'vic'}"
      ]
     },
<<<<<<< HEAD
     "execution_count": 56,
=======
     "execution_count": 46,
>>>>>>> 4ecaf2a0e74057c2968326962eaca2d5016faac5
     "metadata": {},
     "output_type": "execute_result"
    }
   ],
   "source": [
    "# Engineers who are not managers\n",
    "engineers - managers"
   ]
  },
  {
   "cell_type": "code",
<<<<<<< HEAD
   "execution_count": 57,
=======
   "execution_count": 47,
>>>>>>> 4ecaf2a0e74057c2968326962eaca2d5016faac5
   "metadata": {},
   "outputs": [
    {
     "data": {
      "text/plain": [
       "{'tom'}"
      ]
     },
<<<<<<< HEAD
     "execution_count": 57,
=======
     "execution_count": 47,
>>>>>>> 4ecaf2a0e74057c2968326962eaca2d5016faac5
     "metadata": {},
     "output_type": "execute_result"
    }
   ],
   "source": [
    "# Managers who are not engineers\n",
<<<<<<< HEAD
    "managers -engineers"
=======
    "managers - engineers"
>>>>>>> 4ecaf2a0e74057c2968326962eaca2d5016faac5
   ]
  },
  {
   "cell_type": "code",
<<<<<<< HEAD
   "execution_count": 59,
=======
   "execution_count": 48,
>>>>>>> 4ecaf2a0e74057c2968326962eaca2d5016faac5
   "metadata": {},
   "outputs": [
    {
     "data": {
      "text/plain": [
       "False"
      ]
     },
<<<<<<< HEAD
     "execution_count": 59,
=======
     "execution_count": 48,
>>>>>>> 4ecaf2a0e74057c2968326962eaca2d5016faac5
     "metadata": {},
     "output_type": "execute_result"
    }
   ],
   "source": [
    "# Are all managers engineers? (superset)\n",
    "managers > engineers"
   ]
  },
  {
   "cell_type": "code",
<<<<<<< HEAD
   "execution_count": 60,
=======
   "execution_count": 49,
>>>>>>> 4ecaf2a0e74057c2968326962eaca2d5016faac5
   "metadata": {},
   "outputs": [
    {
     "data": {
      "text/plain": [
       "True"
      ]
     },
<<<<<<< HEAD
     "execution_count": 60,
=======
     "execution_count": 49,
>>>>>>> 4ecaf2a0e74057c2968326962eaca2d5016faac5
     "metadata": {},
     "output_type": "execute_result"
    }
   ],
   "source": [
    "# Are both bob and sue engineers? (subset)\n",
<<<<<<< HEAD
    "{'bob' , 'sue'} < engineers"
=======
    "{'bob', 'sue'} < engineers"
>>>>>>> 4ecaf2a0e74057c2968326962eaca2d5016faac5
   ]
  },
  {
   "cell_type": "code",
<<<<<<< HEAD
   "execution_count": 62,
=======
   "execution_count": 50,
>>>>>>> 4ecaf2a0e74057c2968326962eaca2d5016faac5
   "metadata": {},
   "outputs": [
    {
     "data": {
      "text/plain": [
       "{'ann', 'bob', 'tom', 'vic'}"
      ]
     },
<<<<<<< HEAD
     "execution_count": 62,
=======
     "execution_count": 50,
>>>>>>> 4ecaf2a0e74057c2968326962eaca2d5016faac5
     "metadata": {},
     "output_type": "execute_result"
    }
   ],
   "source": [
    "# Who is in one but not both?\n",
<<<<<<< HEAD
    "engineers ^ managers "
=======
    "engineers ^ managers"
>>>>>>> 4ecaf2a0e74057c2968326962eaca2d5016faac5
   ]
  },
  {
   "cell_type": "markdown",
   "metadata": {},
   "source": [
    "## Booleans\n",
    "\n",
    "Python today has an explicit Boolean data type called bool, with the values True and False available as preassigned built-in names. Internally, the names True and False are instances of bool, which is in turn just a subclass (in the object- oriented sense) of the built-in integer type int. True and False behave exactly like the integers 1 and 0, except that they have customized printing logic— they print themselves as the words True and False, instead of the digits 1 and 0."
   ]
  },
  {
   "cell_type": "code",
<<<<<<< HEAD
   "execution_count": 63,
=======
   "execution_count": 51,
>>>>>>> 4ecaf2a0e74057c2968326962eaca2d5016faac5
   "metadata": {},
   "outputs": [
    {
     "data": {
      "text/plain": [
       "bool"
      ]
     },
<<<<<<< HEAD
     "execution_count": 63,
=======
     "execution_count": 51,
>>>>>>> 4ecaf2a0e74057c2968326962eaca2d5016faac5
     "metadata": {},
     "output_type": "execute_result"
    }
   ],
   "source": [
    "# what is the type of True?\n",
    "type(True)"
   ]
  },
  {
   "cell_type": "code",
<<<<<<< HEAD
   "execution_count": 64,
=======
   "execution_count": 52,
>>>>>>> 4ecaf2a0e74057c2968326962eaca2d5016faac5
   "metadata": {},
   "outputs": [
    {
     "data": {
      "text/plain": [
       "True"
      ]
     },
<<<<<<< HEAD
     "execution_count": 64,
=======
     "execution_count": 52,
>>>>>>> 4ecaf2a0e74057c2968326962eaca2d5016faac5
     "metadata": {},
     "output_type": "execute_result"
    }
   ],
   "source": [
    "# we can check it True is a boolean by\n",
    "# isinstance method\n",
    "isinstance(True, bool)"
   ]
  },
  {
   "cell_type": "code",
<<<<<<< HEAD
   "execution_count": 65,
=======
   "execution_count": 53,
>>>>>>> 4ecaf2a0e74057c2968326962eaca2d5016faac5
   "metadata": {},
   "outputs": [
    {
     "data": {
      "text/plain": [
       "True"
      ]
     },
<<<<<<< HEAD
     "execution_count": 65,
=======
     "execution_count": 53,
>>>>>>> 4ecaf2a0e74057c2968326962eaca2d5016faac5
     "metadata": {},
     "output_type": "execute_result"
    }
   ],
   "source": [
    "# check is True is an int\n",
    "isinstance(True, int)"
   ]
  },
  {
   "cell_type": "code",
<<<<<<< HEAD
   "execution_count": 66,
=======
   "execution_count": 54,
>>>>>>> 4ecaf2a0e74057c2968326962eaca2d5016faac5
   "metadata": {},
   "outputs": [
    {
     "data": {
      "text/plain": [
       "True"
      ]
     },
<<<<<<< HEAD
     "execution_count": 66,
=======
     "execution_count": 54,
>>>>>>> 4ecaf2a0e74057c2968326962eaca2d5016faac5
     "metadata": {},
     "output_type": "execute_result"
    }
   ],
   "source": [
    "# The operator == compares values of \n",
    "# both the operands and checks for value \n",
    "# equality.\n",
    "True == 1"
   ]
  },
  {
   "cell_type": "code",
<<<<<<< HEAD
   "execution_count": 67,
=======
   "execution_count": 55,
>>>>>>> 4ecaf2a0e74057c2968326962eaca2d5016faac5
   "metadata": {},
   "outputs": [
    {
     "data": {
      "text/plain": [
       "False"
      ]
     },
<<<<<<< HEAD
     "execution_count": 67,
=======
     "execution_count": 55,
>>>>>>> 4ecaf2a0e74057c2968326962eaca2d5016faac5
     "metadata": {},
     "output_type": "execute_result"
    }
   ],
   "source": [
    "# is operator checks whether both the \n",
    "# operands refer to the same object or not.\n",
    "True is 1"
   ]
  },
  {
   "cell_type": "markdown",
   "metadata": {},
   "source": [
    "# The Dynamic Typing Interlude"
   ]
  },
  {
   "cell_type": "markdown",
   "metadata": {},
   "source": [
    "So far, we’ve been using variables without declaring their existence or their types, and it somehow works. When we type ``a = 3`` in an interactive session or program file, for instance, how does Python know that ``a`` should stand for an integer? For that matter, how does Python know what ``a`` is at all?\n",
    "\n",
    "Once you start asking such questions, you’ve crossed over into the domain of Python’s dynamic typing model. **In Python, types are determined automatically at runtime**, not in response to declarations in your code. \n",
    "\n",
    "For example, when we say this to assign a variable a value:"
   ]
  },
  {
   "cell_type": "code",
   "execution_count": 56,
   "metadata": {},
   "outputs": [],
   "source": [
    "a = 3 # Assign a name to an object"
   ]
  },
  {
   "cell_type": "markdown",
   "metadata": {},
   "source": [
    "at least conceptually, Python will perform three distinct steps to carry out the request.\n",
    "These steps reflect the operation of all assignments in the Python language:\n",
    "1. Create an object to represent the value 3.\n",
    "2. Create the variable ``a``, if it does not yet exist. \n",
    "3. Link the variable ``a`` to the new object 3."
   ]
  },
  {
   "cell_type": "markdown",
   "metadata": {},
   "source": [
    "The net result will be a structure inside Python that resembles the following figure:"
   ]
  },
  {
   "cell_type": "markdown",
   "metadata": {},
   "source": [
    "![alt text](../figures/names_and_object.png)"
   ]
  },
  {
   "cell_type": "markdown",
   "metadata": {},
   "source": [
    "## Types Live with Objects, Not Variables"
   ]
  },
  {
   "cell_type": "code",
   "execution_count": null,
   "metadata": {},
   "outputs": [],
   "source": [
    "a = 3 # it is an integer"
   ]
  },
  {
   "cell_type": "code",
   "execution_count": null,
   "metadata": {},
   "outputs": [],
   "source": [
    "a = \"spam\" # it is a string"
   ]
  },
  {
   "cell_type": "code",
   "execution_count": null,
   "metadata": {},
   "outputs": [],
   "source": [
    "a = 1.23 # now it is a floating point"
   ]
  },
  {
   "cell_type": "markdown",
   "metadata": {},
   "source": [
    "**Names have no types**; as stated earlier, **types live with objects**, not names. In the preceding listing, we’ve simply changed ``a`` to reference different objects. Objects, on the other hand, know what type they are—each object contains a header field that tags the object with its type. The integer object 3, for example, will contain the value 3, plus a designator that tells Python that the object is an integer."
   ]
  },
  {
   "cell_type": "markdown",
   "metadata": {},
   "source": [
    "## Objects Are Garbage-Collected"
   ]
  },
  {
   "cell_type": "markdown",
   "metadata": {},
   "source": [
    "When we reassign a variable, what happens to the value it was previously referencing? For example, after the following statements, what happens to the object 3?"
   ]
  },
  {
   "cell_type": "code",
   "execution_count": null,
   "metadata": {},
   "outputs": [],
   "source": [
    "a = 3"
   ]
  },
  {
   "cell_type": "code",
   "execution_count": null,
   "metadata": {},
   "outputs": [],
   "source": [
    "a = \"spam\""
   ]
  },
  {
   "cell_type": "markdown",
   "metadata": {},
   "source": [
    "The answer is that in Python, whenever a name is assigned to a new object, the space held by the prior object is reclaimed if it is not referenced by any other name or object - that is, the object’s space is automatically thrown back into the free space pool, to be reused for a future object. This automatic reclamation of objects’ space is known as *garbage collection*."
   ]
  },
  {
   "cell_type": "markdown",
   "metadata": {},
   "source": [
    "The most immediately tangible benefit of garbage collection is that it means you can use objects liberally without ever needing to allocate or free up space in your script. Python will clean up unused space for you as your program runs. "
   ]
  },
  {
   "cell_type": "markdown",
   "metadata": {},
   "source": [
    "## Shared References"
   ]
  },
  {
   "cell_type": "code",
   "execution_count": null,
   "metadata": {},
   "outputs": [],
   "source": [
    "a = 3"
   ]
  },
  {
   "cell_type": "code",
   "execution_count": null,
   "metadata": {},
   "outputs": [],
   "source": [
    "b = a"
   ]
  },
  {
   "cell_type": "markdown",
   "metadata": {},
   "source": [
    "Typing these two statements generates the scene captured in the following figure:"
   ]
  },
  {
   "cell_type": "markdown",
   "metadata": {},
   "source": [
    "![alt text](../figures/shared_reference.png)"
   ]
  },
  {
   "cell_type": "markdown",
   "metadata": {},
   "source": [
    "This scenario in Python—with multiple names referencing the same object—is usually called a *shared reference*."
   ]
  },
  {
   "cell_type": "code",
<<<<<<< HEAD
   "execution_count": 68,
=======
   "execution_count": 57,
>>>>>>> 4ecaf2a0e74057c2968326962eaca2d5016faac5
   "metadata": {},
   "outputs": [],
   "source": [
    "# suppose we extend the session with one more statement:\n",
    "a = 3\n",
    "b = a\n",
    "a = \"spam\""
   ]
  },
  {
   "cell_type": "code",
<<<<<<< HEAD
   "execution_count": 69,
=======
   "execution_count": 58,
>>>>>>> 4ecaf2a0e74057c2968326962eaca2d5016faac5
   "metadata": {},
   "outputs": [
    {
     "name": "stdout",
     "output_type": "stream",
     "text": [
      "3\n"
     ]
    }
   ],
   "source": [
    "# what is b?\n",
    "print(b)"
   ]
  },
  {
   "cell_type": "markdown",
   "metadata": {},
   "source": [
    "The resulting reference structure is shown in the following figure:"
   ]
  },
  {
   "cell_type": "code",
<<<<<<< HEAD
   "execution_count": 70,
=======
   "execution_count": 59,
>>>>>>> 4ecaf2a0e74057c2968326962eaca2d5016faac5
   "metadata": {},
   "outputs": [],
   "source": [
    "b = a"
   ]
  },
  {
   "cell_type": "code",
<<<<<<< HEAD
   "execution_count": 72,
=======
   "execution_count": 60,
>>>>>>> 4ecaf2a0e74057c2968326962eaca2d5016faac5
   "metadata": {},
   "outputs": [
    {
     "name": "stdout",
     "output_type": "stream",
     "text": [
      "spam\n"
     ]
    }
   ],
   "source": [
    "# what is b now?\n",
    "print(b)"
   ]
  },
  {
   "cell_type": "markdown",
   "metadata": {},
   "source": [
    "![alt text](../figures/shared_reference_2.png)"
   ]
  },
  {
   "cell_type": "markdown",
   "metadata": {},
   "source": [
    "## Shared References and In-Place Changes"
   ]
  },
  {
   "cell_type": "markdown",
   "metadata": {},
   "source": [
    "There are objects and operations that perform in-place object changes—Python’s mutable types, including lists, dictionaries, and sets."
   ]
  },
  {
   "cell_type": "markdown",
   "metadata": {},
   "source": [
    "For objects that support such in-place changes, you need to be more aware of shared references, since a change from one name may impact others. Otherwise, your objects may seem to change for no apparent reason."
   ]
  },
  {
   "cell_type": "code",
<<<<<<< HEAD
   "execution_count": 73,
=======
   "execution_count": 61,
>>>>>>> 4ecaf2a0e74057c2968326962eaca2d5016faac5
   "metadata": {},
   "outputs": [],
   "source": [
    "# A mutable object L1\n",
    "# list of 2, 3, 4\n",
<<<<<<< HEAD
    "L1 = [2,3,4]"
=======
    "L1 = [2, 3, 4]"
>>>>>>> 4ecaf2a0e74057c2968326962eaca2d5016faac5
   ]
  },
  {
   "cell_type": "code",
<<<<<<< HEAD
   "execution_count": 74,
=======
   "execution_count": 62,
>>>>>>> 4ecaf2a0e74057c2968326962eaca2d5016faac5
   "metadata": {},
   "outputs": [],
   "source": [
    "# Make a reference to the same object\n",
    "L2 = L1"
   ]
  },
  {
   "cell_type": "code",
<<<<<<< HEAD
   "execution_count": 75,
=======
   "execution_count": 63,
>>>>>>> 4ecaf2a0e74057c2968326962eaca2d5016faac5
   "metadata": {},
   "outputs": [],
   "source": [
    "# An in-place change to L1\n",
<<<<<<< HEAD
    "L1[0] =24"
=======
    "L1[0] = 24"
>>>>>>> 4ecaf2a0e74057c2968326962eaca2d5016faac5
   ]
  },
  {
   "cell_type": "code",
<<<<<<< HEAD
   "execution_count": 76,
=======
   "execution_count": 64,
>>>>>>> 4ecaf2a0e74057c2968326962eaca2d5016faac5
   "metadata": {},
   "outputs": [
    {
     "name": "stdout",
     "output_type": "stream",
     "text": [
      "[24, 3, 4]\n"
     ]
    }
   ],
   "source": [
    "# L1 is different\n",
    "print(L1)"
   ]
  },
  {
   "cell_type": "code",
<<<<<<< HEAD
   "execution_count": 77,
=======
   "execution_count": 65,
>>>>>>> 4ecaf2a0e74057c2968326962eaca2d5016faac5
   "metadata": {},
   "outputs": [
    {
     "name": "stdout",
     "output_type": "stream",
     "text": [
      "[24, 3, 4]\n"
     ]
    }
   ],
   "source": [
    "# did L2 change?\n",
    "print(L2)"
   ]
  },
  {
   "cell_type": "markdown",
   "metadata": {},
   "source": [
    "Really, we haven’t changed L1 itself here; we’ve changed a component of the object that L1 references. This sort of change overwrites part of the list object’s value in place. Because the list object is shared by (referenced from) other variables, though, an in- place change like this doesn’t affect only L1. In this example, the effect shows up in L2 as well because it references the same object as L1. Again, we haven’t actually changed L2, either, but its value will appear different because it refers to an object that has been overwritten in place."
   ]
  },
  {
   "cell_type": "markdown",
   "metadata": {},
   "source": [
    "It’s also just the default: if you don’t want such behavior, you can request that Python copy objects instead of making references. There are a variety of ways to copy a list, including using the built-in list function and the standard library copy module. Perhaps the most common way is to slice from start to finish."
   ]
  },
  {
   "cell_type": "code",
<<<<<<< HEAD
   "execution_count": 78,
=======
   "execution_count": 70,
>>>>>>> 4ecaf2a0e74057c2968326962eaca2d5016faac5
   "metadata": {},
   "outputs": [],
   "source": [
    "# create list L1 again from 2, 3, 4\n",
<<<<<<< HEAD
    "L1 =[2,3,4]"
=======
    "L1 = [2, 3, 4]"
>>>>>>> 4ecaf2a0e74057c2968326962eaca2d5016faac5
   ]
  },
  {
   "cell_type": "code",
<<<<<<< HEAD
   "execution_count": 79,
=======
   "execution_count": 71,
>>>>>>> 4ecaf2a0e74057c2968326962eaca2d5016faac5
   "metadata": {},
   "outputs": [],
   "source": [
    "# Make a copy of L1 using slicing\n",
<<<<<<< HEAD
    "L2= L1[:]"
=======
    "L2 = L1[:]"
>>>>>>> 4ecaf2a0e74057c2968326962eaca2d5016faac5
   ]
  },
  {
   "cell_type": "code",
<<<<<<< HEAD
   "execution_count": 80,
=======
   "execution_count": 72,
>>>>>>> 4ecaf2a0e74057c2968326962eaca2d5016faac5
   "metadata": {},
   "outputs": [],
   "source": [
    "# change L1\n",
    "L1[0] = 24"
   ]
  },
  {
   "cell_type": "code",
<<<<<<< HEAD
   "execution_count": 81,
=======
   "execution_count": 73,
>>>>>>> 4ecaf2a0e74057c2968326962eaca2d5016faac5
   "metadata": {},
   "outputs": [
    {
     "name": "stdout",
     "output_type": "stream",
     "text": [
      "[24, 3, 4]\n"
     ]
    }
   ],
   "source": [
    "# print L1\n",
    "print(L1)"
   ]
  },
  {
   "cell_type": "code",
<<<<<<< HEAD
   "execution_count": 82,
=======
   "execution_count": 74,
>>>>>>> 4ecaf2a0e74057c2968326962eaca2d5016faac5
   "metadata": {},
   "outputs": [
    {
     "name": "stdout",
     "output_type": "stream",
     "text": [
      "[2, 3, 4]\n"
     ]
    }
   ],
   "source": [
    "# print L2\n",
    "print(L2)"
   ]
  },
  {
   "cell_type": "markdown",
   "metadata": {},
   "source": [
    "L2 is changed or not changed?\n",
    "\n",
    "Also, note that the standard library ``copy`` module has a call for copying any object type generically, as well as a call for copying nested object structures—a dictionary with nested lists, for example:"
   ]
  },
  {
   "cell_type": "code",
<<<<<<< HEAD
   "execution_count": 84,
=======
   "execution_count": 78,
>>>>>>> 4ecaf2a0e74057c2968326962eaca2d5016faac5
   "metadata": {},
   "outputs": [],
   "source": [
    "import copy\n",
    "L1 = ['spam',[2, 3, 4], [\"a\", \"b\", \"c\"]]\n",
    "# Make top-level \"shallow\" copy of any object L1\n",
<<<<<<< HEAD
    "# Make deep copy of any object Y: copy all nested parts\n",
    "L2 = copy.copy(L1)#shallow copy\n",
=======
    "L2 = copy.copy(L1)\n",
    "# Make deep copy of any object Y: copy all nested parts\n",
>>>>>>> 4ecaf2a0e74057c2968326962eaca2d5016faac5
    "L3 = copy.deepcopy(L1)"
   ]
  },
  {
   "cell_type": "code",
<<<<<<< HEAD
   "execution_count": 85,
   "metadata": {},
   "outputs": [],
   "source": [
    "# modify L1[0][0]\n",
    "L1[0][0]=99"
=======
   "execution_count": 79,
   "metadata": {},
   "outputs": [],
   "source": [
    "# modify L1[0] and L1[1][0]\n",
    "L1[0] = 'ham'\n",
    "L1[1][0] = 96"
>>>>>>> 4ecaf2a0e74057c2968326962eaca2d5016faac5
   ]
  },
  {
   "cell_type": "code",
<<<<<<< HEAD
   "execution_count": 86,
=======
   "execution_count": 80,
>>>>>>> 4ecaf2a0e74057c2968326962eaca2d5016faac5
   "metadata": {},
   "outputs": [
    {
     "name": "stdout",
     "output_type": "stream",
     "text": [
<<<<<<< HEAD
      "[[99, 3, 4], ['a', 'b', 'c']]\n"
=======
      "['ham', [96, 3, 4], ['a', 'b', 'c']]\n"
>>>>>>> 4ecaf2a0e74057c2968326962eaca2d5016faac5
     ]
    }
   ],
   "source": [
    "# print L1\n",
    "print(L1)"
   ]
  },
  {
   "cell_type": "code",
<<<<<<< HEAD
   "execution_count": 87,
=======
   "execution_count": 81,
>>>>>>> 4ecaf2a0e74057c2968326962eaca2d5016faac5
   "metadata": {},
   "outputs": [
    {
     "name": "stdout",
     "output_type": "stream",
     "text": [
<<<<<<< HEAD
      "[[99, 3, 4], ['a', 'b', 'c']]\n"
=======
      "['spam', [96, 3, 4], ['a', 'b', 'c']]\n"
>>>>>>> 4ecaf2a0e74057c2968326962eaca2d5016faac5
     ]
    }
   ],
   "source": [
    "# print L2\n",
    "print(L2)"
   ]
  },
  {
   "cell_type": "code",
<<<<<<< HEAD
   "execution_count": 88,
=======
   "execution_count": 82,
>>>>>>> 4ecaf2a0e74057c2968326962eaca2d5016faac5
   "metadata": {},
   "outputs": [
    {
     "name": "stdout",
     "output_type": "stream",
     "text": [
<<<<<<< HEAD
      "[[2, 3, 4], ['a', 'b', 'c']]\n"
=======
      "['spam', [2, 3, 4], ['a', 'b', 'c']]\n"
>>>>>>> 4ecaf2a0e74057c2968326962eaca2d5016faac5
     ]
    }
   ],
   "source": [
    "# print L3\n",
    "print(L3)"
   ]
  },
  {
   "cell_type": "markdown",
   "metadata": {},
   "source": [
    "## Shared References and Equality"
   ]
  },
  {
   "cell_type": "code",
<<<<<<< HEAD
   "execution_count": 89,
=======
   "execution_count": 83,
>>>>>>> 4ecaf2a0e74057c2968326962eaca2d5016faac5
   "metadata": {},
   "outputs": [],
   "source": [
    "L = [1, 2, 3]"
   ]
  },
  {
   "cell_type": "code",
<<<<<<< HEAD
   "execution_count": 90,
=======
   "execution_count": 84,
>>>>>>> 4ecaf2a0e74057c2968326962eaca2d5016faac5
   "metadata": {},
   "outputs": [],
   "source": [
    "# Create M and make M and L reference the same object\n",
    "M = L"
   ]
  },
  {
   "cell_type": "code",
<<<<<<< HEAD
   "execution_count": 91,
=======
   "execution_count": 85,
>>>>>>> 4ecaf2a0e74057c2968326962eaca2d5016faac5
   "metadata": {},
   "outputs": [
    {
     "data": {
      "text/plain": [
       "True"
      ]
     },
<<<<<<< HEAD
     "execution_count": 91,
=======
     "execution_count": 85,
>>>>>>> 4ecaf2a0e74057c2968326962eaca2d5016faac5
     "metadata": {},
     "output_type": "execute_result"
    }
   ],
   "source": [
    "# Do M and L have same values?\n",
    "M == L"
   ]
  },
  {
   "cell_type": "code",
<<<<<<< HEAD
   "execution_count": 92,
=======
   "execution_count": 86,
>>>>>>> 4ecaf2a0e74057c2968326962eaca2d5016faac5
   "metadata": {},
   "outputs": [
    {
     "data": {
      "text/plain": [
       "True"
      ]
     },
<<<<<<< HEAD
     "execution_count": 92,
=======
     "execution_count": 86,
>>>>>>> 4ecaf2a0e74057c2968326962eaca2d5016faac5
     "metadata": {},
     "output_type": "execute_result"
    }
   ],
   "source": [
    "# Are they same objects?\n",
    "M is L"
   ]
  },
  {
   "cell_type": "code",
<<<<<<< HEAD
   "execution_count": 93,
=======
   "execution_count": 88,
>>>>>>> 4ecaf2a0e74057c2968326962eaca2d5016faac5
   "metadata": {},
   "outputs": [],
   "source": [
    "# M and L reference different objects\n",
    "L = [1, 2, 3]\n",
    "M = [1, 2, 3]"
   ]
  },
  {
   "cell_type": "code",
<<<<<<< HEAD
   "execution_count": 94,
=======
   "execution_count": 89,
>>>>>>> 4ecaf2a0e74057c2968326962eaca2d5016faac5
   "metadata": {},
   "outputs": [
    {
     "data": {
      "text/plain": [
       "True"
      ]
     },
<<<<<<< HEAD
     "execution_count": 94,
=======
     "execution_count": 89,
>>>>>>> 4ecaf2a0e74057c2968326962eaca2d5016faac5
     "metadata": {},
     "output_type": "execute_result"
    }
   ],
   "source": [
    "# Same values\n",
    "L == M"
   ]
  },
  {
   "cell_type": "code",
<<<<<<< HEAD
   "execution_count": 95,
=======
   "execution_count": 90,
>>>>>>> 4ecaf2a0e74057c2968326962eaca2d5016faac5
   "metadata": {},
   "outputs": [
    {
     "data": {
      "text/plain": [
       "False"
      ]
     },
<<<<<<< HEAD
     "execution_count": 95,
=======
     "execution_count": 90,
>>>>>>> 4ecaf2a0e74057c2968326962eaca2d5016faac5
     "metadata": {},
     "output_type": "execute_result"
    }
   ],
   "source": [
    "# Different Objects\n",
<<<<<<< HEAD
    "L is M"
=======
    "M is L"
>>>>>>> 4ecaf2a0e74057c2968326962eaca2d5016faac5
   ]
  },
  {
   "cell_type": "markdown",
   "metadata": {},
   "source": [
    "Now, watch what happens when we perform the same operations on small numbers:"
   ]
  },
  {
   "cell_type": "code",
<<<<<<< HEAD
   "execution_count": 96,
=======
   "execution_count": 100,
>>>>>>> 4ecaf2a0e74057c2968326962eaca2d5016faac5
   "metadata": {},
   "outputs": [],
   "source": [
    "# Should be two different objects\n",
    "X = 42\n",
    "Y = 42"
   ]
  },
  {
   "cell_type": "code",
<<<<<<< HEAD
   "execution_count": 97,
=======
   "execution_count": 101,
>>>>>>> 4ecaf2a0e74057c2968326962eaca2d5016faac5
   "metadata": {},
   "outputs": [
    {
     "data": {
      "text/plain": [
       "True"
      ]
     },
<<<<<<< HEAD
     "execution_count": 97,
=======
     "execution_count": 101,
>>>>>>> 4ecaf2a0e74057c2968326962eaca2d5016faac5
     "metadata": {},
     "output_type": "execute_result"
    }
   ],
   "source": [
    "# Same values?\n",
    "X == Y"
   ]
  },
  {
   "cell_type": "code",
<<<<<<< HEAD
   "execution_count": 98,
=======
   "execution_count": 102,
>>>>>>> 4ecaf2a0e74057c2968326962eaca2d5016faac5
   "metadata": {},
   "outputs": [
    {
     "data": {
      "text/plain": [
       "True"
      ]
     },
<<<<<<< HEAD
     "execution_count": 98,
=======
     "execution_count": 102,
>>>>>>> 4ecaf2a0e74057c2968326962eaca2d5016faac5
     "metadata": {},
     "output_type": "execute_result"
    }
   ],
   "source": [
    "# Same objects?\n",
    "X is Y"
   ]
  },
  {
   "cell_type": "markdown",
   "metadata": {},
   "source": [
    "Because small integers and strings are cached and reused, though, it tells us they reference the same single object."
   ]
  },
  {
   "cell_type": "code",
<<<<<<< HEAD
   "execution_count": 99,
=======
   "execution_count": 103,
>>>>>>> 4ecaf2a0e74057c2968326962eaca2d5016faac5
   "metadata": {},
   "outputs": [],
   "source": [
    "T1 = (1, 2)\n",
    "T2 = (1, 2)"
   ]
  },
  {
   "cell_type": "code",
<<<<<<< HEAD
   "execution_count": 100,
=======
   "execution_count": 104,
>>>>>>> 4ecaf2a0e74057c2968326962eaca2d5016faac5
   "metadata": {},
   "outputs": [
    {
     "data": {
      "text/plain": [
       "True"
      ]
     },
<<<<<<< HEAD
     "execution_count": 100,
=======
     "execution_count": 104,
>>>>>>> 4ecaf2a0e74057c2968326962eaca2d5016faac5
     "metadata": {},
     "output_type": "execute_result"
    }
   ],
   "source": [
    "# same values?\n",
    "T1 == T2"
   ]
  },
  {
   "cell_type": "code",
<<<<<<< HEAD
   "execution_count": 101,
=======
   "execution_count": 105,
>>>>>>> 4ecaf2a0e74057c2968326962eaca2d5016faac5
   "metadata": {},
   "outputs": [
    {
     "data": {
      "text/plain": [
       "False"
      ]
     },
<<<<<<< HEAD
     "execution_count": 101,
=======
     "execution_count": 105,
>>>>>>> 4ecaf2a0e74057c2968326962eaca2d5016faac5
     "metadata": {},
     "output_type": "execute_result"
    }
   ],
   "source": [
    "# same objects?\n",
    "T1 is T2"
   ]
  },
  {
   "cell_type": "markdown",
   "metadata": {},
   "source": [
    "# Introducing Python Statements"
   ]
  },
  {
   "cell_type": "markdown",
   "metadata": {},
   "source": [
    "Programs written in the Python language are composed of statements and expressions. Expressions process objects and are embedded in statements. Statements code the larger logic of a program’s operation."
   ]
  },
  {
   "cell_type": "markdown",
   "metadata": {},
   "source": [
    "The following table summarizes Python's statements:"
   ]
  },
  {
   "cell_type": "markdown",
   "metadata": {},
   "source": [
    "![alt text](../figures/statements.png)"
   ]
  },
  {
   "cell_type": "markdown",
   "metadata": {},
   "source": [
    "![alt text](../figures/statements2.png)"
   ]
  },
  {
   "cell_type": "markdown",
   "metadata": {},
   "source": [
    "### The colon character (:)\n",
    "\n",
    "The one new syntax component in Python is the colon character (:). All Python compound statements—statements that have other statements nested inside them—follow the same general pattern of a header line terminated in a colon, followed by a nested block of code usually indented underneath the header line, like this:"
   ]
  },
  {
   "cell_type": "raw",
   "metadata": {},
   "source": [
    "Header line: \n",
    "    Nested statement block "
   ]
  },
  {
   "cell_type": "markdown",
   "metadata": {},
   "source": [
    "### Paranthesis are optional"
   ]
  },
  {
   "cell_type": "raw",
   "metadata": {},
   "source": [
    "if(x < y)\n",
    "\n",
    "if x < y"
   ]
  },
  {
   "cell_type": "markdown",
   "metadata": {},
   "source": [
    "### End of line is end statement"
   ]
  },
  {
   "cell_type": "code",
   "execution_count": null,
   "metadata": {},
   "outputs": [],
   "source": [
    "x = 1;"
   ]
  },
  {
   "cell_type": "code",
   "execution_count": null,
   "metadata": {},
   "outputs": [],
   "source": [
    "x = 1"
   ]
  },
  {
   "cell_type": "markdown",
   "metadata": {},
   "source": [
    "### End of indentation is end of block"
   ]
  },
  {
   "cell_type": "markdown",
   "metadata": {},
   "source": [
    "You don't need to include begin/end, then/endif, or braces around the nested block, as you do in C-like languages:"
   ]
  },
  {
   "cell_type": "raw",
   "metadata": {},
   "source": [
    "if (x > y){ \n",
    "    x = 1;\n",
    "    y = 2; \n",
    "}"
   ]
  },
  {
   "cell_type": "markdown",
   "metadata": {},
   "source": [
    "Instead, in Python, we consistently indent all the statements in a given single nested block the same distance to the right, and Python uses the statements’ physical inden- tation to determine where the block starts and stops:"
   ]
  },
  {
   "cell_type": "raw",
   "metadata": {},
   "source": [
    "if x > y: \n",
    "    x = 1 \n",
    "    y = 2"
   ]
  },
  {
   "cell_type": "markdown",
   "metadata": {},
   "source": [
    "Python doesn’t care how you indent (you may use either spaces or tabs), or how much you indent (you may use any number of spaces or tabs). In fact, the indentation of one nested block can be totally different from that of another. The syntax rule is only that for a given single nested block, all of its statements must be indented the same distance to the right. "
   ]
  },
  {
   "cell_type": "markdown",
   "metadata": {},
   "source": [
    "The indentation rule is one of the main ways the Python almost forces programmers to produce uniform, regular, and readable code."
   ]
  },
  {
   "cell_type": "markdown",
   "metadata": {},
   "source": [
    "### Statement Rule Special Cases\n",
    "\n",
    "It is possible to squeeze more than one statement onto a single line in Python by separating them with semicolons:"
   ]
  },
  {
   "cell_type": "code",
   "execution_count": null,
   "metadata": {},
   "outputs": [],
   "source": [
    "a = 1; b = 2; print(a + b) # Three statements on one line"
   ]
  },
  {
   "cell_type": "markdown",
   "metadata": {},
   "source": [
    "Compound statements like if tests and while loops must still appear on lines of their own.\n",
    "\n",
    "The other special rule for statements is essentially the inverse: you can make a single statement span across multiple lines. \n",
    "\n",
    "To make this work, you simply have to enclose part of your statement in a bracketed pair—parentheses (()), square brackets ([]), or curly braces ({}). \n",
    "\n",
    "For instance, to continue a list literal:"
   ]
  },
  {
   "cell_type": "code",
   "execution_count": null,
   "metadata": {},
   "outputs": [],
   "source": [
    "mylist = [1111,\n",
    "          2222,\n",
    "          3333]"
   ]
  },
  {
   "cell_type": "markdown",
   "metadata": {},
   "source": [
    "The body of a compound statement can appear on the same line as the header in Python, after the colon:"
   ]
  },
  {
   "cell_type": "raw",
   "metadata": {},
   "source": [
    "if x > y: print(x)"
   ]
  },
  {
   "cell_type": "markdown",
   "metadata": {},
   "source": [
    "### A Simple Interactive Loop\n",
    "\n",
    "Suppose you need to write a classic read/evaluate/print loop program."
   ]
  },
  {
   "cell_type": "code",
   "execution_count": 106,
   "metadata": {},
   "outputs": [
    {
     "name": "stdout",
     "output_type": "stream",
     "text": [
      "Enter your input: stevens\n",
      "STEVENS\n",
      "Enter your input: hoboken\n",
      "HOBOKEN\n",
      "Enter your input: stop\n"
     ]
    }
   ],
   "source": [
    "# print upper case of an input as long as the input is NOT 'stop'\n",
    "while True:\n",
<<<<<<< HEAD
    "    reply = input('Enter text')\n",
    "    if reply == 'stop':break\n",
=======
    "    reply = input(\"Enter your input: \")\n",
    "    if reply == 'stop': break\n",
>>>>>>> 4ecaf2a0e74057c2968326962eaca2d5016faac5
    "    print(reply.upper())"
   ]
  },
  {
   "cell_type": "markdown",
   "metadata": {},
   "source": [
    "Now suppose that instead of converting a text string to uppercase, we want to do some math with numeric input—squaring it."
   ]
  },
  {
   "cell_type": "code",
   "execution_count": 107,
   "metadata": {},
   "outputs": [
    {
     "name": "stdout",
     "output_type": "stream",
     "text": [
      "Enter your input: 17\n",
      "289\n",
      "Enter your input: 6\n",
      "36\n",
      "Enter your input: stop\n"
     ]
    }
   ],
   "source": [
    "# write while loop here\n",
    "while True:\n",
<<<<<<< HEAD
    "    reply = input('Enter text : ')\n",
    "    if reply == 'stop':break\n",
    "    print (int(reply) ** 2)"
=======
    "    reply = input(\"Enter your input: \")\n",
    "    if reply == 'stop': break\n",
    "    print(int(reply)**2)"
>>>>>>> 4ecaf2a0e74057c2968326962eaca2d5016faac5
   ]
  },
  {
   "cell_type": "markdown",
   "metadata": {},
   "source": [
    "what happens when the input is invalid?"
   ]
  },
  {
   "cell_type": "code",
<<<<<<< HEAD
   "execution_count": 1,
=======
   "execution_count": 108,
>>>>>>> 4ecaf2a0e74057c2968326962eaca2d5016faac5
   "metadata": {},
   "outputs": [
    {
     "name": "stdout",
     "output_type": "stream",
     "text": [
<<<<<<< HEAD
      "Enter text : 2\n",
      "4\n",
      "Enter text : 4\n",
      "16\n",
      "Enter text : stevens\n",
      "error\n",
      "Enter text : stop\n"
=======
      "Enter your input: 17\n",
      "289\n",
      "Enter your input: 5\n",
      "25\n",
      "Enter your input: spam\n",
      "Bad bad bad!!!\n",
      "Enter your input: stop\n"
>>>>>>> 4ecaf2a0e74057c2968326962eaca2d5016faac5
     ]
    }
   ],
   "source": [
    "# add a condition\n",
    "while True:\n",
<<<<<<< HEAD
    "    reply = input('Enter text : ')\n",
    "    if reply == 'stop':break\n",
    "    elif reply.isdigit():\n",
    "        print (int(reply) ** 2)\n",
    "    else:\n",
    "        print(\"error\")"
=======
    "    reply = input(\"Enter your input: \")\n",
    "    if reply == 'stop': \n",
    "        break\n",
    "    elif not reply.isdigit():\n",
    "        print('Bad bad bad!!!')\n",
    "    else:\n",
    "         print(int(reply)**2)"
>>>>>>> 4ecaf2a0e74057c2968326962eaca2d5016faac5
   ]
  },
  {
   "cell_type": "markdown",
   "metadata": {},
   "source": [
    "### Handling Errors with try Statements\n",
    "\n",
    "The most general way to handle errors in Python is to catch and recover from them completely using the Python try statement."
   ]
  },
  {
   "cell_type": "code",
<<<<<<< HEAD
   "execution_count": 3,
=======
   "execution_count": 109,
>>>>>>> 4ecaf2a0e74057c2968326962eaca2d5016faac5
   "metadata": {},
   "outputs": [
    {
     "name": "stdout",
     "output_type": "stream",
     "text": [
<<<<<<< HEAD
      "Enter text : 2\n",
      "4\n",
      "Enter text : 4\n",
      "16\n",
      "Enter text : tt\n",
      "error\n",
      "Enter text : stop\n"
=======
      "Enter your input: 17\n",
      "17\n",
      "Enter your input: 4\n",
      "4\n",
      "Enter your input: spam\n",
      "Bad bad bad !!!\n",
      "Enter your input: stop\n"
>>>>>>> 4ecaf2a0e74057c2968326962eaca2d5016faac5
     ]
    }
   ],
   "source": [
    "# use try and except\n",
    "while True:\n",
<<<<<<< HEAD
    "    reply = input('Enter text : ')\n",
    "    if reply == 'stop':break\n",
    "    try :\n",
    "        num = int(reply) ** 2\n",
    "        print(num)\n",
    "    except:\n",
    "        print(\"error\")"
=======
    "    reply = input(\"Enter your input: \")\n",
    "    if reply == 'stop': \n",
    "        break\n",
    "    try:\n",
    "        num = int(reply)\n",
    "        print(num)\n",
    "    except:\n",
    "        print(\"Bad bad bad !!!\")\n",
    "    else:\n",
    "        print(num)        "
>>>>>>> 4ecaf2a0e74057c2968326962eaca2d5016faac5
   ]
  },
  {
   "cell_type": "markdown",
   "metadata": {},
   "source": [
    "This version works exactly like the previous one, but we’ve replaced the explicit error check with code that assumes the conversion will work and wraps it in an exception handler for cases when it doesn’t."
   ]
  },
  {
   "cell_type": "markdown",
   "metadata": {},
   "source": [
    "In terms of statement nesting, because the words ``try``, ``except``, and ``else`` are all indented to the same level, they are all considered part of the same single try statement. Notice that the else part is associated with the ``try`` here, not the ``if``. "
   ]
  },
  {
   "cell_type": "markdown",
   "metadata": {},
   "source": [
    "## Nesting Code Three Levels Deep\n",
    "\n",
    "Nesting can take us even further if we need it to."
   ]
  },
  {
   "cell_type": "code",
   "execution_count": 110,
   "metadata": {},
   "outputs": [
    {
     "name": "stdout",
     "output_type": "stream",
     "text": [
      "Enter your input: 17\n",
      "289\n",
      "Enter your input: 4\n",
      "low\n",
      "Enter your input: stop\n"
     ]
    }
   ],
   "source": [
    "# print low if num < 20\n",
    "while True:\n",
    "    reply = input(\"Enter your input: \")\n",
    "    if reply == 'stop': \n",
    "        break\n",
    "    elif not reply.isdigit():\n",
    "        print('Bad bad bad!!!')\n",
    "    else:\n",
    "        num = int(reply) ** 2\n",
    "        if num < 20:\n",
    "            print('low')\n",
    "        else:\n",
    "            print(num)"
   ]
  },
  {
   "cell_type": "code",
   "execution_count": null,
   "metadata": {},
   "outputs": [],
   "source": []
  }
 ],
 "metadata": {
  "kernelspec": {
   "display_name": "Python 3",
   "language": "python",
   "name": "python3"
  },
  "language_info": {
   "codemirror_mode": {
    "name": "ipython",
    "version": 3
   },
   "file_extension": ".py",
   "mimetype": "text/x-python",
   "name": "python",
   "nbconvert_exporter": "python",
   "pygments_lexer": "ipython3",
   "version": "3.7.2"
  }
 },
 "nbformat": 4,
 "nbformat_minor": 2
}
